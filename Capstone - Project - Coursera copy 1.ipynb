{
    "nbformat_minor": 1, 
    "cells": [
        {
            "source": "# Coursera Capstone Project - The Battle of Neighbourhoods\n\n\n### This Project is about finding a suitable neighbourhood in the City of Toronto to open a Restaurant chain", 
            "cell_type": "markdown", 
            "metadata": {
                "collapsed": true
            }
        }, 
        {
            "source": "## Introduction\n\n#### A group of 5 investors are plannning to open a restaurant chain in the city of Toronto. So they are interested to know which neighbourhood has most restaurants. And also to find the Neighbourhoods that are similar to the one which has most restaurants so as to be easy to decide upon the location.\n\n## Data \n#### The location of each neighbourhood is scraped from wikipedia.The Borough name, Neighbourhood name are taken from wikipedia page.  <br>                            The latitude and longitude of each neighbourhood is obtained using Geocoder.<br>                                                                                                                                                                        Foursquare API is used to get the location of restaurants in the city of Toronto and also to get the nearby top venues in each neighbourhood. We get the name of restaurant, its category, latitude and longitude information.<br>                                                                                                                                                                                                    It is also used to get the top venues, its name, latitude and longitude of each top venue in each neighbourhood.", 
            "cell_type": "markdown", 
            "metadata": {}
        }, 
        {
            "source": "## Methodology\n\n#### 1.Get the location of each Borough and Neighbourhood in Toronto using wikipedia page.<br>                                                                                                      2.Find the number of Neighbourhoods in each Borough. <br>                                                                                                                                                                   3.Get the restaurants locations and visualize it on map.<br>                                                                                                                                                                      4.Select the Boroughs and Neighbourhoods that are nearby to the one with most restaurants by checking out the number of neghbourhoods and visualizing      each     neighbourhood on map.<br>                                                                                                                                                                                                                 5.Use Kmeans Clustering algorithm to cluster the neighbourhoods. And select the ones that are nearby to the popular area with most restaurants and the ones that are similar to it.", 
            "cell_type": "markdown", 
            "metadata": {}
        }, 
        {
            "source": "## Results\n\n\n#### We can see that most of the restaurants are based on Central Toronto and Dowtown Toronto.\n#### The Black circles represents Restaurant locations and the other circles represents the similar clustered Neighbourhoods.\n\n", 
            "cell_type": "markdown", 
            "metadata": {}
        }, 
        {
            "source": "## Conclusion\n\n### Based on above results, we can recommend the following top 3 Neighbourhoods:\n### 1.Adelaide in East Toronto<br>                                                                                                                                                                                                                                                 2.King and Spadina in Downtown Toronto<br>                                                                                                                                                                                                                                 3.South Hill in Central Toronto", 
            "cell_type": "markdown", 
            "metadata": {}
        }
    ], 
    "metadata": {
        "kernelspec": {
            "display_name": "Python 3.5", 
            "name": "python3", 
            "language": "python"
        }, 
        "language_info": {
            "mimetype": "text/x-python", 
            "nbconvert_exporter": "python", 
            "version": "3.5.5", 
            "name": "python", 
            "pygments_lexer": "ipython3", 
            "file_extension": ".py", 
            "codemirror_mode": {
                "version": 3, 
                "name": "ipython"
            }
        }
    }, 
    "nbformat": 4
}